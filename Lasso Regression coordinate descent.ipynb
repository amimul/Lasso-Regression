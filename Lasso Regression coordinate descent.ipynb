{
 "cells": [
  {
   "cell_type": "code",
   "execution_count": 1,
   "metadata": {},
   "outputs": [],
   "source": [
    "from scipy.sparse import coo_matrix\n",
    "import pandas\n",
    "from scipy.sparse import csr_matrix\n",
    "import numpy\n",
    "from math import sqrt\n",
    "from sklearn.metrics import mean_squared_error\n",
    "import sys\n",
    "import matplotlib.pyplot as plt\n",
    "%matplotlib inline"
   ]
  },
  {
   "cell_type": "markdown",
   "metadata": {},
   "source": [
    "### Loading train data, train labels, validation data and validation labels"
   ]
  },
  {
   "cell_type": "code",
   "execution_count": 2,
   "metadata": {},
   "outputs": [],
   "source": [
    "train_data = pandas.read_csv(\"./newDataset/trainData.txt\", delimiter = ' ', header=None)\n",
    "train_labels = pandas.read_csv(\"./newDataset/trainLabels.txt\", header=None)"
   ]
  },
  {
   "cell_type": "code",
   "execution_count": 3,
   "metadata": {},
   "outputs": [],
   "source": [
    "val_data = pandas.read_csv(\"./newDataset/valData.txt\", delimiter = ' ', header=None)\n",
    "val_labels = pandas.read_csv(\"./newDataset/valLabels.txt\", header=None)"
   ]
  },
  {
   "cell_type": "code",
   "execution_count": 4,
   "metadata": {},
   "outputs": [],
   "source": [
    "columns = []\n",
    "rows = []\n",
    "columns_val = []\n",
    "rows_val = []"
   ]
  },
  {
   "cell_type": "markdown",
   "metadata": {},
   "source": [
    "#### Converting the training and validation data into matrix market format."
   ]
  },
  {
   "cell_type": "code",
   "execution_count": 5,
   "metadata": {},
   "outputs": [],
   "source": [
    "for key, value in val_data.iterrows():\n",
    "    columns_val.append(value[0] - 1)\n",
    "    rows_val.append(value[1] - 1)\n",
    "values_val = val_data[2]\n",
    "y_val = val_labels[0]\n",
    "coo_val = coo_matrix((values_val, (rows_val, columns_val)))\n",
    "csr_val = coo_val.tocsr()"
   ]
  },
  {
   "cell_type": "code",
   "execution_count": 6,
   "metadata": {},
   "outputs": [],
   "source": [
    "csr_y_val = csr_matrix(y_val)\n",
    "csr_y_val = csr_y_val.transpose()"
   ]
  },
  {
   "cell_type": "code",
   "execution_count": 10,
   "metadata": {},
   "outputs": [],
   "source": [
    "for key, value in train_data.iterrows():\n",
    "    columns.append(value[0] - 1)\n",
    "    rows.append(value[1] - 1)\n",
    "values = train_data[2]\n",
    "y = train_labels[0]\n",
    "coo = coo_matrix((values, (rows, columns)))\n",
    "csr = coo.tocsr()\n",
    "csr_y = csr_matrix(y)\n",
    "csr_y = csr_y.transpose()"
   ]
  },
  {
   "cell_type": "code",
   "execution_count": 13,
   "metadata": {},
   "outputs": [],
   "source": [
    "d = csr.shape[0]\n",
    "N = csr.shape[1]"
   ]
  },
  {
   "cell_type": "markdown",
   "metadata": {},
   "source": [
    "### Calculating Lambda Max"
   ]
  },
  {
   "cell_type": "code",
   "execution_count": 16,
   "metadata": {},
   "outputs": [],
   "source": [
    "sum_y = csr_y.sum() / N\n",
    "to_multiply = csr_y - csr_matrix(sum_y * numpy.ones(shape=(N, 1)))\n",
    "multiplied_with_x = csr * to_multiply\n",
    "lambda_max = 2 * numpy.linalg.norm(multiplied_with_x.toarray(), numpy.inf)"
   ]
  },
  {
   "cell_type": "code",
   "execution_count": 19,
   "metadata": {},
   "outputs": [],
   "source": [
    "def coordinate_descent_scipy(x, w, bias_list, lambda_max, iterate):\n",
    "    lambda_1 = lambda_max * 2\n",
    "    d = x.shape[0]\n",
    "    for iteration in range(0, iterate):\n",
    "        ak = [1] * x.shape[0]\n",
    "        lambda_1 = lambda_1 / 2\n",
    "        for k in range(0, d):\n",
    "            temp = x.getrow(k)\n",
    "            ak[k] = 2 * temp.multiply(temp).sum()\n",
    "        count = 0\n",
    "        if iteration != 0:\n",
    "            bias_list = bias.copy()\n",
    "            bias_list = csr_matrix(bias_list * numpy.ones(shape = (N, 1)))\n",
    "        old_objective_function = 0\n",
    "        while True:\n",
    "            ck = [0] * d\n",
    "            #Calculate r\n",
    "            r = csr_y - ((x.transpose() * w) + bias_list)\n",
    "            \n",
    "            # Calculate new bias\n",
    "            new_bias = (r.sum() / float(N)) + bias_list.toarray()[0][0]\n",
    "            r = r - csr_matrix((r.sum() / float(N)) * numpy.ones(shape=(N, 1)))\n",
    "            bias = new_bias\n",
    "            \n",
    "            for k in range(0, d):\n",
    "                temp = 0\n",
    "                current_row = x.getrow(k)\n",
    "                columns_indices = current_row.nonzero()[1]\n",
    "                for i in columns_indices:\n",
    "                    temp += current_row[0, i] * (r[i, 0] + (w[k, 0] * current_row[0, i]))\n",
    "                temp = float(temp)\n",
    "                ck[k] = 2 * temp\n",
    "                \n",
    "                if ck[k] < -1 * lambda_1:\n",
    "                    new_wk = float((ck[k] + lambda_1)) / ak[k]\n",
    "                elif ck[k] > lambda_1:\n",
    "                    new_wk = float((ck[k] - lambda_1)) / ak[k]\n",
    "                else:\n",
    "                    new_wk = 0.0\n",
    "                \n",
    "                # update r\n",
    "                r += (w[k].toarray()[0][0] - new_wk) * current_row.transpose()\n",
    "                w[k] = new_wk\n",
    "            # calculate the objective function    \n",
    "            objective_function = (r.transpose() * r).toarray()[0][0] + lambda_1 * abs(w).sum()\n",
    "            print(\"objective_function: \", objective_function)\n",
    "            \n",
    "            # check if the objective function value has decreased from before, if yes, then break\n",
    "            if abs(old_objective_function - objective_function) < 1:\n",
    "                break\n",
    "            old_objective_function = objective_function\n",
    "    return w, bias            "
   ]
  },
  {
   "cell_type": "code",
   "execution_count": 53,
   "metadata": {},
   "outputs": [
    {
     "data": {
      "text/plain": [
       "1271.8696510000054"
      ]
     },
     "execution_count": 53,
     "metadata": {},
     "output_type": "execute_result"
    }
   ],
   "source": [
    "lambda_max"
   ]
  },
  {
   "cell_type": "code",
   "execution_count": 54,
   "metadata": {},
   "outputs": [
    {
     "name": "stdout",
     "output_type": "stream",
     "text": [
      "Iteration number:  1\n",
      "objective_function:  230851.28474350512\n",
      "objective_function:  169608.56521983468\n",
      "objective_function:  127424.11821958868\n",
      "objective_function:  116030.55659890533\n",
      "objective_function:  115339.97589998547\n",
      "objective_function:  115339.97589998547\n",
      "lambda:  1271.8696510000054\n",
      "validation error:  [3.3895861945081145]\n",
      "train error:  [3.396173963447691]\n",
      "Iteration number:  2\n",
      "objective_function:  113464.97051962464\n",
      "objective_function:  113351.72481509436\n",
      "objective_function:  113268.05422605101\n",
      "objective_function:  113230.35547283216\n",
      "objective_function:  113218.39606288074\n",
      "objective_function:  113214.75937298461\n",
      "objective_function:  113213.59848669515\n",
      "objective_function:  113213.21645900796\n",
      "lambda:  635.9348255000027\n",
      "validation error:  [3.3895861945081145, 3.2411015096815357]\n",
      "train error:  [3.396173963447691, 3.238243342269178]\n",
      "Iteration number:  3\n",
      "objective_function:  104742.93004452213\n",
      "objective_function:  104553.47250832178\n",
      "objective_function:  104544.92720643431\n",
      "objective_function:  104541.66576588231\n",
      "objective_function:  104540.33005553481\n",
      "objective_function:  104539.77786204749\n",
      "lambda:  317.96741275000136\n",
      "validation error:  [3.3895861945081145, 3.2411015096815357, 3.001421745520921]\n",
      "train error:  [3.396173963447691, 3.238243342269178, 2.987551369040531]\n",
      "Iteration number:  4\n",
      "objective_function:  93416.83587896256\n",
      "objective_function:  93147.23974392982\n",
      "objective_function:  93119.57593066568\n",
      "objective_function:  93096.6610770215\n",
      "objective_function:  93078.0106986136\n",
      "objective_function:  93064.88645447222\n",
      "objective_function:  93056.80457174915\n",
      "objective_function:  93052.32408985155\n",
      "objective_function:  93050.00619932378\n",
      "objective_function:  93048.84934896305\n",
      "objective_function:  93048.27856736627\n",
      "lambda:  158.98370637500068\n",
      "validation error:  [3.3895861945081145, 3.2411015096815357, 3.001421745520921, 2.785156067807517]\n",
      "train error:  [3.396173963447691, 3.238243342269178, 2.987551369040531, 2.753456368852516]\n",
      "Iteration number:  5\n",
      "objective_function:  81029.03082797382\n",
      "objective_function:  80583.924264634\n",
      "objective_function:  80531.19647597909\n",
      "objective_function:  80497.56435876536\n",
      "objective_function:  80470.6521876301\n",
      "objective_function:  80447.68875281751\n",
      "objective_function:  80428.03158080258\n",
      "objective_function:  80411.51846909361\n",
      "objective_function:  80398.44269679049\n",
      "objective_function:  80388.27417343293\n",
      "objective_function:  80380.01094902994\n",
      "objective_function:  80373.71230071266\n",
      "objective_function:  80369.16954411601\n",
      "objective_function:  80366.00649965255\n",
      "objective_function:  80363.84384309212\n",
      "objective_function:  80362.35884550968\n",
      "objective_function:  80361.33022892471\n",
      "objective_function:  80360.61164287591\n",
      "lambda:  79.49185318750034\n",
      "validation error:  [3.3895861945081145, 3.2411015096815357, 3.001421745520921, 2.785156067807517, 2.5413950289799945]\n",
      "train error:  [3.396173963447691, 3.238243342269178, 2.987551369040531, 2.753456368852516, 2.486891027109666]\n",
      "Iteration number:  6\n",
      "objective_function:  68652.80915521088\n",
      "objective_function:  68293.2656199893\n",
      "objective_function:  68253.74010721034\n",
      "objective_function:  68227.66526621925\n",
      "objective_function:  68203.54696770573\n",
      "objective_function:  68181.03491554265\n",
      "objective_function:  68160.185194543\n",
      "objective_function:  68140.79344426554\n",
      "objective_function:  68122.55155934337\n",
      "objective_function:  68105.36359822907\n",
      "objective_function:  68089.49121886934\n",
      "objective_function:  68075.53339803027\n",
      "objective_function:  68063.75482904493\n",
      "objective_function:  68054.11216159332\n",
      "objective_function:  68046.3830160148\n",
      "objective_function:  68040.28417131209\n",
      "objective_function:  68035.44512630848\n",
      "objective_function:  68031.58587109094\n",
      "objective_function:  68028.48307873265\n",
      "objective_function:  68025.96614413074\n",
      "objective_function:  68023.90816311102\n",
      "objective_function:  68022.21332369061\n",
      "objective_function:  68020.80758238591\n",
      "objective_function:  68019.63247402119\n",
      "objective_function:  68018.64800146106\n",
      "lambda:  39.74592659375017\n",
      "validation error:  [3.3895861945081145, 3.2411015096815357, 3.001421745520921, 2.785156067807517, 2.5413950289799945, 2.3441964000059072]\n",
      "train error:  [3.396173963447691, 3.238243342269178, 2.987551369040531, 2.753456368852516, 2.486891027109666, 2.266866726211899]\n",
      "Iteration number:  7\n",
      "objective_function:  57879.14713199018\n",
      "objective_function:  57607.84436603633\n",
      "objective_function:  57569.3558995443\n",
      "objective_function:  57546.94585125313\n",
      "objective_function:  57526.987079240585\n",
      "objective_function:  57507.97380121461\n",
      "objective_function:  57489.762988379414\n",
      "objective_function:  57472.37457291887\n",
      "objective_function:  57455.804814089526\n",
      "objective_function:  57440.01282425241\n",
      "objective_function:  57425.03351644316\n",
      "objective_function:  57410.916576878706\n",
      "objective_function:  57397.748945850115\n",
      "objective_function:  57385.60311042727\n",
      "objective_function:  57374.76391473734\n",
      "objective_function:  57365.34265088691\n",
      "objective_function:  57357.28437541235\n",
      "objective_function:  57350.43811509233\n",
      "objective_function:  57344.63733752571\n",
      "objective_function:  57339.72607053347\n",
      "objective_function:  57335.55179268088\n",
      "objective_function:  57331.99257853378\n",
      "objective_function:  57328.94067001201\n",
      "objective_function:  57326.30386953105\n",
      "objective_function:  57324.00852095935\n",
      "objective_function:  57321.99718428693\n",
      "objective_function:  57320.225850466115\n",
      "objective_function:  57318.66041540944\n",
      "objective_function:  57317.279440170445\n",
      "objective_function:  57316.06646202672\n",
      "objective_function:  57314.99678233098\n",
      "objective_function:  57314.054864600046\n",
      "lambda:  19.872963296875085\n",
      "validation error:  [3.3895861945081145, 3.2411015096815357, 3.001421745520921, 2.785156067807517, 2.5413950289799945, 2.3441964000059072, 2.1841040427012564]\n",
      "train error:  [3.396173963447691, 3.238243342269178, 2.987551369040531, 2.753456368852516, 2.486891027109666, 2.266866726211899, 2.072393903877694]\n",
      "Iteration number:  8\n",
      "objective_function:  48356.7020428942\n",
      "objective_function:  48113.70416280905\n",
      "objective_function:  48079.90215967867\n",
      "objective_function:  48059.76190903098\n",
      "objective_function:  48042.45953497192\n",
      "objective_function:  48026.39919246326\n",
      "objective_function:  48011.25322466137\n",
      "objective_function:  47996.92505408324\n",
      "objective_function:  47983.313872143815\n",
      "objective_function:  47970.31310726683\n",
      "objective_function:  47957.814527447124\n",
      "objective_function:  47945.75009720239\n",
      "objective_function:  47934.11862246357\n",
      "objective_function:  47922.96154070045\n",
      "objective_function:  47912.36192752048\n",
      "objective_function:  47902.3999455147\n",
      "objective_function:  47893.167191773224\n",
      "objective_function:  47884.65768698702\n",
      "objective_function:  47876.82421183349\n",
      "objective_function:  47869.636632679685\n",
      "objective_function:  47863.076819972855\n",
      "objective_function:  47857.12446299714\n",
      "objective_function:  47851.74993682948\n",
      "objective_function:  47846.902383125576\n",
      "objective_function:  47842.53707497365\n",
      "objective_function:  47838.60896746527\n",
      "objective_function:  47835.07337892335\n",
      "objective_function:  47831.883205641505\n",
      "objective_function:  47828.99777141989\n",
      "objective_function:  47826.383955143836\n",
      "objective_function:  47824.01143976242\n",
      "objective_function:  47821.85435886981\n",
      "objective_function:  47819.889870722945\n",
      "objective_function:  47818.09802478489\n",
      "objective_function:  47816.461595264336\n",
      "objective_function:  47814.96553109439\n",
      "objective_function:  47813.59701226297\n",
      "objective_function:  47812.34463105722\n",
      "objective_function:  47811.19837772545\n",
      "objective_function:  47810.14887886871\n",
      "objective_function:  47809.187895694326\n",
      "lambda:  9.936481648437542\n",
      "validation error:  [3.3895861945081145, 3.2411015096815357, 3.001421745520921, 2.785156067807517, 2.5413950289799945, 2.3441964000059072, 2.1841040427012564, 2.0478538254437377]\n",
      "train error:  [3.396173963447691, 3.238243342269178, 2.987551369040531, 2.753456368852516, 2.486891027109666, 2.266866726211899, 2.072393903877694, 1.871719781478824]\n",
      "Iteration number:  9\n",
      "objective_function:  40098.18422596371\n",
      "objective_function:  39926.26335565793\n",
      "objective_function:  39895.301686557985\n",
      "objective_function:  39880.41455519111\n",
      "objective_function:  39868.936801801785\n",
      "objective_function:  39858.470580640795\n",
      "objective_function:  39848.452792607066\n",
      "objective_function:  39838.68867308216\n",
      "objective_function:  39829.184888983305\n"
     ]
    },
    {
     "name": "stdout",
     "output_type": "stream",
     "text": [
      "objective_function:  39819.943340057216\n",
      "objective_function:  39810.9664051092\n",
      "objective_function:  39802.23677526966\n",
      "objective_function:  39793.77180955692\n",
      "objective_function:  39785.59983597766\n",
      "objective_function:  39777.74473235086\n",
      "objective_function:  39770.224839187824\n",
      "objective_function:  39763.056095148124\n",
      "objective_function:  39756.24010599839\n",
      "objective_function:  39749.776588102235\n",
      "objective_function:  39743.66657402892\n",
      "objective_function:  39737.89459713619\n",
      "objective_function:  39732.45951231767\n",
      "objective_function:  39727.357329018414\n",
      "objective_function:  39722.5805778748\n",
      "objective_function:  39718.11708562424\n",
      "objective_function:  39713.95401494578\n",
      "objective_function:  39710.08063427804\n",
      "objective_function:  39706.480874206085\n",
      "objective_function:  39703.136258861625\n",
      "objective_function:  39700.02896313743\n",
      "objective_function:  39697.139971456076\n",
      "objective_function:  39694.45042982289\n",
      "objective_function:  39691.94288685164\n",
      "objective_function:  39689.59948528494\n",
      "objective_function:  39687.40670855093\n",
      "objective_function:  39685.355655232925\n",
      "objective_function:  39683.43645008272\n",
      "objective_function:  39681.63907327745\n",
      "objective_function:  39679.95473679974\n",
      "objective_function:  39678.375911470255\n",
      "objective_function:  39676.89542212016\n",
      "objective_function:  39675.50669135511\n",
      "objective_function:  39674.20386733452\n",
      "objective_function:  39672.98134571451\n",
      "objective_function:  39671.83389489925\n",
      "objective_function:  39670.756552960884\n",
      "objective_function:  39669.745349017736\n",
      "objective_function:  39668.79616187683\n",
      "lambda:  4.968240824218771\n",
      "validation error:  [3.3895861945081145, 3.2411015096815357, 3.001421745520921, 2.785156067807517, 2.5413950289799945, 2.3441964000059072, 2.1841040427012564, 2.0478538254437377, 1.9690774059617702]\n",
      "train error:  [3.396173963447691, 3.238243342269178, 2.987551369040531, 2.753456368852516, 2.486891027109666, 2.266866726211899, 2.072393903877694, 1.871719781478824, 1.7090103819305666]\n",
      "Iteration number:  10\n",
      "objective_function:  33506.49721018549\n",
      "objective_function:  33370.55596110677\n",
      "objective_function:  33341.29778464006\n",
      "objective_function:  33329.13640762111\n",
      "objective_function:  33321.49009995202\n",
      "objective_function:  33315.18302075047\n",
      "objective_function:  33309.25319377156\n",
      "objective_function:  33303.501856419396\n",
      "objective_function:  33297.70372978147\n",
      "objective_function:  33291.84191500029\n",
      "objective_function:  33285.95375484656\n",
      "objective_function:  33280.10130309118\n",
      "objective_function:  33274.298178370154\n",
      "objective_function:  33268.58604127973\n",
      "objective_function:  33263.00405665161\n",
      "objective_function:  33257.58297997238\n",
      "objective_function:  33252.336465067856\n",
      "objective_function:  33247.27266991606\n",
      "objective_function:  33242.3884797852\n",
      "objective_function:  33237.71670463213\n",
      "objective_function:  33233.24116635067\n",
      "objective_function:  33228.95580476228\n",
      "objective_function:  33224.85543467408\n",
      "objective_function:  33220.93730924145\n",
      "objective_function:  33217.20575329614\n",
      "objective_function:  33213.66324067136\n",
      "objective_function:  33210.30093487143\n",
      "objective_function:  33207.110827476725\n",
      "objective_function:  33204.09003843396\n",
      "objective_function:  33201.2356661842\n",
      "objective_function:  33198.54255427798\n",
      "objective_function:  33196.00603757121\n",
      "objective_function:  33193.61826227288\n",
      "objective_function:  33191.37083441517\n",
      "objective_function:  33189.2554978103\n",
      "objective_function:  33187.26441469797\n",
      "objective_function:  33185.38785469875\n",
      "objective_function:  33183.618535325804\n",
      "objective_function:  33181.948375709966\n",
      "objective_function:  33180.370140038336\n",
      "objective_function:  33178.877520648595\n",
      "objective_function:  33177.46433547734\n",
      "objective_function:  33176.12468676279\n",
      "objective_function:  33174.85319224398\n",
      "objective_function:  33173.64481659824\n",
      "objective_function:  33172.49513591447\n",
      "objective_function:  33171.40030147051\n",
      "objective_function:  33170.356957514785\n",
      "objective_function:  33169.3621301671\n",
      "lambda:  2.4841204121093856\n",
      "validation error:  [3.3895861945081145, 3.2411015096815357, 3.001421745520921, 2.785156067807517, 2.5413950289799945, 2.3441964000059072, 2.1841040427012564, 2.0478538254437377, 1.9690774059617702, 1.9508163606563085]\n",
      "train error:  [3.396173963447691, 3.238243342269178, 2.987551369040531, 2.753456368852516, 2.486891027109666, 2.266866726211899, 2.072393903877694, 1.871719781478824, 1.7090103819305666, 1.5840911391049572]\n",
      "Iteration number:  11\n",
      "objective_function:  28637.013848574643\n",
      "objective_function:  28543.59818920127\n",
      "objective_function:  28516.545481274894\n",
      "objective_function:  28504.2319625206\n",
      "objective_function:  28497.174223402704\n",
      "objective_function:  28492.216907824175\n",
      "objective_function:  28488.191373330694\n",
      "objective_function:  28484.62020650907\n",
      "objective_function:  28481.264374644183\n",
      "objective_function:  28477.990920699696\n",
      "objective_function:  28474.74683600329\n",
      "objective_function:  28471.510577109137\n",
      "objective_function:  28468.276374118734\n",
      "objective_function:  28465.04748873386\n",
      "objective_function:  28461.828549745347\n",
      "objective_function:  28458.625534384126\n",
      "objective_function:  28455.44703432967\n",
      "objective_function:  28452.302534019178\n",
      "objective_function:  28449.20158336667\n",
      "objective_function:  28446.153459520247\n",
      "objective_function:  28443.166078825583\n",
      "objective_function:  28440.247229138186\n",
      "objective_function:  28437.401210712476\n",
      "objective_function:  28434.63222360294\n",
      "objective_function:  28431.94333418425\n",
      "objective_function:  28429.336797786935\n",
      "objective_function:  28426.813547180693\n",
      "objective_function:  28424.373942466213\n",
      "objective_function:  28422.017143307716\n",
      "objective_function:  28419.74331540794\n",
      "objective_function:  28417.551724089506\n",
      "objective_function:  28415.44192645089\n",
      "objective_function:  28413.41217931591\n",
      "objective_function:  28411.460975357037\n",
      "objective_function:  28409.586117181338\n",
      "objective_function:  28407.78504977522\n",
      "objective_function:  28406.055466662503\n",
      "objective_function:  28404.394915202436\n",
      "objective_function:  28402.801140994183\n",
      "objective_function:  28401.27201649441\n",
      "objective_function:  28399.80533708342\n",
      "objective_function:  28398.399409900376\n",
      "objective_function:  28397.051559479387\n",
      "objective_function:  28395.7596396465\n",
      "objective_function:  28394.521683804778\n",
      "objective_function:  28393.33583909219\n",
      "objective_function:  28392.200151504454\n",
      "objective_function:  28391.11260691987\n",
      "objective_function:  28390.071163446697\n",
      "objective_function:  28389.07389169031\n",
      "lambda:  1.2420602060546928\n",
      "validation error:  [3.3895861945081145, 3.2411015096815357, 3.001421745520921, 2.785156067807517, 2.5413950289799945, 2.3441964000059072, 2.1841040427012564, 2.0478538254437377, 1.9690774059617702, 1.9508163606563085, 1.978399247038387]\n",
      "train error:  [3.396173963447691, 3.238243342269178, 2.987551369040531, 2.753456368852516, 2.486891027109666, 2.266866726211899, 2.072393903877694, 1.871719781478824, 1.7090103819305666, 1.5840911391049572, 1.5110901837593058]\n"
     ]
    }
   ],
   "source": [
    "bias = 10\n",
    "bias = bias * csr_matrix(numpy.ones(shape=(N, 1)))\n",
    "weights = 1\n",
    "#print(numpy.shape(w))\n",
    "weights = weights * csr_matrix(numpy.ones(shape=(d, 1)))\n",
    "weights_array = []\n",
    "#lambda_max = lambda_max / 2\n",
    "validation_error_array = []\n",
    "train_error_array = []\n",
    "bias_array = []\n",
    "lambda_array = []\n",
    "non_zeroes_array = []\n",
    "old_validation_error = sys.maxsize\n",
    "count = 0\n",
    "while True:\n",
    "    count += 1\n",
    "    print(\"Iteration number: \", count)\n",
    "    weights, bias = coordinate_descent_scipy(csr, weights, bias, lambda_max, 1)\n",
    "    \n",
    "    predict_y = (csr.transpose() * weights) + (bias * csr_matrix(numpy.ones(shape=(N, 1))))\n",
    "    train_error = sqrt(mean_squared_error(csr_y.toarray(), predict_y.toarray()))\n",
    "    train_error_array.append(train_error)\n",
    "    \n",
    "    predict_y_val = (csr_val.transpose() * weights) + (bias * csr_matrix(numpy.ones(shape=(N, 1))))\n",
    "    validation_error = sqrt(mean_squared_error(csr_y_val.toarray(), predict_y_val.toarray()))\n",
    "    validation_error_array.append(validation_error)\n",
    "    \n",
    "    weights_array.append(weights)\n",
    "    bias_array.append(bias)\n",
    "    bias = bias * csr_matrix(numpy.ones(shape=(N, 1)))\n",
    "    lambda_array.append(lambda_max)\n",
    "    non_zeroes_array.append(weights.count_nonzero())\n",
    "    \n",
    "    print(\"lambda: \", lambda_max)\n",
    "    print(\"validation error: \", validation_error_array)\n",
    "    print(\"train error: \", train_error_array)\n",
    "    \n",
    "    if old_validation_error - validation_error <  0:\n",
    "        break\n",
    "    \n",
    "    old_validation_error = validation_error\n",
    "    lambda_max = lambda_max / 2\n",
    "    "
   ]
  },
  {
   "cell_type": "markdown",
   "metadata": {},
   "source": [
    "### Read the test data"
   ]
  },
  {
   "cell_type": "code",
   "execution_count": 55,
   "metadata": {},
   "outputs": [],
   "source": [
    "test_data = pandas.read_csv(\"./newDataset/testData.txt\", delimiter = ' ', header=None)"
   ]
  },
  {
   "cell_type": "code",
   "execution_count": 56,
   "metadata": {},
   "outputs": [],
   "source": [
    "columns_test = []\n",
    "rows_test = []\n",
    "for key, value in test_data.iterrows():\n",
    "    columns_test.append(value[0] - 1)\n",
    "    rows_test.append(value[1] - 1)\n",
    "values_test = test_data[2]"
   ]
  },
  {
   "cell_type": "markdown",
   "metadata": {},
   "source": [
    "### Convert the test data into matrix maket format"
   ]
  },
  {
   "cell_type": "code",
   "execution_count": 57,
   "metadata": {},
   "outputs": [],
   "source": [
    "coo_test = coo_matrix((values_test, (rows_test, columns_test)))\n",
    "csr_test = coo_test.tocsr()"
   ]
  },
  {
   "cell_type": "markdown",
   "metadata": {},
   "source": [
    "### Take the weights and bias corresponding to the optimum lambda for building the model"
   ]
  },
  {
   "cell_type": "code",
   "execution_count": 90,
   "metadata": {},
   "outputs": [],
   "source": [
    "w = weights_array[-3]\n",
    "bias = bias_array[-3]\n"
   ]
  },
  {
   "cell_type": "code",
   "execution_count": 91,
   "metadata": {},
   "outputs": [
    {
     "data": {
      "text/plain": [
       "<3000x1 sparse matrix of type '<class 'numpy.float64'>'\n",
       "\twith 3000 stored elements in Compressed Sparse Row format>"
      ]
     },
     "execution_count": 91,
     "metadata": {},
     "output_type": "execute_result"
    }
   ],
   "source": [
    "w"
   ]
  },
  {
   "cell_type": "code",
   "execution_count": 68,
   "metadata": {},
   "outputs": [],
   "source": [
    "csr_test = csr_test.transpose()"
   ]
  },
  {
   "cell_type": "code",
   "execution_count": 92,
   "metadata": {},
   "outputs": [
    {
     "data": {
      "text/plain": [
       "84.0493058242642"
      ]
     },
     "execution_count": 92,
     "metadata": {},
     "output_type": "execute_result"
    }
   ],
   "source": [
    "bias"
   ]
  },
  {
   "cell_type": "code",
   "execution_count": 86,
   "metadata": {},
   "outputs": [
    {
     "data": {
      "text/plain": [
       "20534"
      ]
     },
     "execution_count": 86,
     "metadata": {},
     "output_type": "execute_result"
    }
   ],
   "source": [
    "new_N = csr_test.shape[1]\n",
    "new_N"
   ]
  },
  {
   "cell_type": "markdown",
   "metadata": {},
   "source": [
    "### Predict the reviews for the test data using optimum weights and bias"
   ]
  },
  {
   "cell_type": "code",
   "execution_count": 93,
   "metadata": {},
   "outputs": [],
   "source": [
    "predict_y_test = (csr_test.transpose() * w) + (bias * csr_matrix(numpy.ones(shape=(new_N, 1))))"
   ]
  },
  {
   "cell_type": "code",
   "execution_count": 94,
   "metadata": {},
   "outputs": [
    {
     "data": {
      "text/html": [
       "<div>\n",
       "<style scoped>\n",
       "    .dataframe tbody tr th:only-of-type {\n",
       "        vertical-align: middle;\n",
       "    }\n",
       "\n",
       "    .dataframe tbody tr th {\n",
       "        vertical-align: top;\n",
       "    }\n",
       "\n",
       "    .dataframe thead th {\n",
       "        text-align: right;\n",
       "    }\n",
       "</style>\n",
       "<table border=\"1\" class=\"dataframe\">\n",
       "  <thead>\n",
       "    <tr style=\"text-align: right;\">\n",
       "      <th></th>\n",
       "      <th>ID</th>\n",
       "      <th>Points</th>\n",
       "    </tr>\n",
       "  </thead>\n",
       "  <tbody>\n",
       "    <tr>\n",
       "      <th>0</th>\n",
       "      <td>1</td>\n",
       "      <td>93.156553</td>\n",
       "    </tr>\n",
       "    <tr>\n",
       "      <th>1</th>\n",
       "      <td>2</td>\n",
       "      <td>83.703088</td>\n",
       "    </tr>\n",
       "    <tr>\n",
       "      <th>2</th>\n",
       "      <td>3</td>\n",
       "      <td>91.751541</td>\n",
       "    </tr>\n",
       "    <tr>\n",
       "      <th>3</th>\n",
       "      <td>4</td>\n",
       "      <td>89.636119</td>\n",
       "    </tr>\n",
       "    <tr>\n",
       "      <th>4</th>\n",
       "      <td>5</td>\n",
       "      <td>84.003999</td>\n",
       "    </tr>\n",
       "  </tbody>\n",
       "</table>\n",
       "</div>"
      ],
      "text/plain": [
       "   ID     Points\n",
       "0   1  93.156553\n",
       "1   2  83.703088\n",
       "2   3  91.751541\n",
       "3   4  89.636119\n",
       "4   5  84.003999"
      ]
     },
     "execution_count": 94,
     "metadata": {},
     "output_type": "execute_result"
    }
   ],
   "source": [
    "result = pandas.DataFrame(predict_y_test.toarray())\n",
    "result['ID'] = pandas.Series([i for i in range(1, 20535)], index = result.index)\n",
    "result.columns = ['Points', 'ID']\n",
    "cols_names = list(result.columns.values) #Make a list of all of the columns in the df\n",
    "cols_names.pop(cols_names.index('Points')) #Remove b from list\n",
    "result = result[cols_names+['Points']] \n",
    "result.head()"
   ]
  },
  {
   "cell_type": "markdown",
   "metadata": {},
   "source": [
    "### Create a submission file\n"
   ]
  },
  {
   "cell_type": "code",
   "execution_count": 95,
   "metadata": {},
   "outputs": [],
   "source": [
    "result.to_csv(\"predTestLabels.csv\", index = None)"
   ]
  },
  {
   "cell_type": "markdown",
   "metadata": {},
   "source": [
    "# RMSE after submitting the Predicted Test labels is 1.97491"
   ]
  },
  {
   "cell_type": "code",
   "execution_count": 100,
   "metadata": {},
   "outputs": [],
   "source": [
    "iteration = [i for i in range(1, len(validation_error_array) + 1)]"
   ]
  },
  {
   "cell_type": "markdown",
   "metadata": {},
   "source": [
    "### Plot a graph for Iteration vs Root Mean Square Error\n",
    "I used iteration number instead of lambda values, the graph of lambda values vs root mean square error doesn't turn out to be good, it's not interpretable as compared for the iteration values. For each iteration, the lambda values decreases by a factor of 2"
   ]
  },
  {
   "cell_type": "code",
   "execution_count": 108,
   "metadata": {},
   "outputs": [
    {
     "data": {
      "text/plain": [
       "<matplotlib.legend.Legend at 0x7f12d64beba8>"
      ]
     },
     "execution_count": 108,
     "metadata": {},
     "output_type": "execute_result"
    },
    {
     "data": {
      "image/png": "[encoded data removed]",
      "text/plain": [
       "<matplotlib.figure.Figure at 0x7f12d63d00b8>"
      ]
     },
     "metadata": {},
     "output_type": "display_data"
    }
   ],
   "source": [
    "plt.plot(iteration, validation_error_array)\n",
    "plt.plot(iteration, train_error_array)\n",
    "\n",
    "plt.xlabel(\"Iteration\")\n",
    "plt.ylabel(\"Root Mean Square Error\")\n",
    "plt.legend(('Validation Error', 'Train Error'),\n",
    "           loc='upper center')"
   ]
  },
  {
   "cell_type": "markdown",
   "metadata": {},
   "source": [
    "### Plot a graph for Iteration number vs number of non zeroes"
   ]
  },
  {
   "cell_type": "code",
   "execution_count": 110,
   "metadata": {},
   "outputs": [
    {
     "data": {
      "text/plain": [
       "Text(0,0.5,'Number of non zeroes')"
      ]
     },
     "execution_count": 110,
     "metadata": {},
     "output_type": "execute_result"
    },
    {
     "data": {
      "image/png": "[encoded data removed]",
      "text/plain": [
       "<matplotlib.figure.Figure at 0x7f12d63c0fd0>"
      ]
     },
     "metadata": {},
     "output_type": "display_data"
    }
   ],
   "source": [
    "plt.plot(iteration, non_zeroes_array)\n",
    "\n",
    "plt.xlabel(\"Iteration\")\n",
    "plt.ylabel(\"Number of non zeroes\")"
   ]
  },
  {
   "cell_type": "markdown",
   "metadata": {},
   "source": [
    "#### The optimum values for lambda, bias and weights are as follows:"
   ]
  },
  {
   "cell_type": "code",
   "execution_count": 111,
   "metadata": {},
   "outputs": [
    {
     "data": {
      "text/plain": [
       "2.4841204121093856"
      ]
     },
     "execution_count": 111,
     "metadata": {},
     "output_type": "execute_result"
    }
   ],
   "source": [
    "best_lambda = lambda_array[-2]\n",
    "best_lambda"
   ]
  },
  {
   "cell_type": "code",
   "execution_count": 112,
   "metadata": {},
   "outputs": [
    {
     "data": {
      "text/plain": [
       "83.22064704069054"
      ]
     },
     "execution_count": 112,
     "metadata": {},
     "output_type": "execute_result"
    }
   ],
   "source": [
    "best_bias = bias_array[-2]\n",
    "best_bias"
   ]
  },
  {
   "cell_type": "code",
   "execution_count": 121,
   "metadata": {},
   "outputs": [
    {
     "data": {
      "text/plain": [
       "<3000x1 sparse matrix of type '<class 'numpy.float64'>'\n",
       "\twith 3000 stored elements in Compressed Sparse Row format>"
      ]
     },
     "execution_count": 121,
     "metadata": {},
     "output_type": "execute_result"
    }
   ],
   "source": [
    "best_weights = weights_array[-2]\n",
    "best_weights"
   ]
  },
  {
   "cell_type": "code",
   "execution_count": 122,
   "metadata": {},
   "outputs": [
    {
     "data": {
      "text/plain": [
       "array([[ 0.        ],\n",
       "       [ 3.62416019],\n",
       "       [ 5.12919378],\n",
       "       ...,\n",
       "       [-0.25739355],\n",
       "       [ 0.84228094],\n",
       "       [ 1.6294963 ]])"
      ]
     },
     "execution_count": 122,
     "metadata": {},
     "output_type": "execute_result"
    }
   ],
   "source": [
    "best_weights.toarray()"
   ]
  },
  {
   "cell_type": "markdown",
   "metadata": {},
   "source": [
    "#### Finding the bottom and top 10 weights"
   ]
  },
  {
   "cell_type": "code",
   "execution_count": 127,
   "metadata": {},
   "outputs": [],
   "source": [
    "lowest_weights = sorted(best_weights.toarray())[0:10]"
   ]
  },
  {
   "cell_type": "code",
   "execution_count": 130,
   "metadata": {},
   "outputs": [],
   "source": [
    "top_weights = sorted(best_weights.toarray(), reverse = True)[0:10]"
   ]
  },
  {
   "cell_type": "code",
   "execution_count": 133,
   "metadata": {},
   "outputs": [],
   "source": [
    "top_weights_index = []\n",
    "lowest_weights_index = []\n",
    "best_weights_array = best_weights.toarray().tolist()\n",
    "for i in range(0, 10):\n",
    "    top_weights_index.append(best_weights_array.index(top_weights[i]))\n",
    "    lowest_weights_index.append(best_weights_array.index(lowest_weights[i]))\n"
   ]
  },
  {
   "cell_type": "code",
   "execution_count": 141,
   "metadata": {},
   "outputs": [],
   "source": [
    "labels_text = pandas.read_csv(\"./newDataset/featureTypes.txt\", header = None)"
   ]
  },
  {
   "cell_type": "code",
   "execution_count": 156,
   "metadata": {},
   "outputs": [],
   "source": [
    "top_weights_labels = []\n",
    "low_weights_labels = []\n",
    "\n",
    "for i in range(0, 10):\n",
    "    top_weights_labels.append(labels_text[0][top_weights_index[i]])\n",
    "    low_weights_labels.append(labels_text[0][lowest_weights_index[i]])\n",
    "    "
   ]
  },
  {
   "cell_type": "code",
   "execution_count": 157,
   "metadata": {},
   "outputs": [
    {
     "data": {
      "text/plain": [
       "['spearmint',\n",
       " 'huge',\n",
       " 'lifesaver',\n",
       " 'big',\n",
       " 'stars',\n",
       " 'ageability',\n",
       " 'lemony',\n",
       " 'truly',\n",
       " 'acidity provides',\n",
       " 'nearly']"
      ]
     },
     "execution_count": 157,
     "metadata": {},
     "output_type": "execute_result"
    }
   ],
   "source": [
    "top_weights_labels"
   ]
  },
  {
   "cell_type": "markdown",
   "metadata": {},
   "source": [
    "#### The top weight features are similar to each other and it shows that the spearmint contributes maximum to the review. When any of these words appear they contribute the maximum to the review hence increasing the review"
   ]
  },
  {
   "cell_type": "code",
   "execution_count": 158,
   "metadata": {},
   "outputs": [
    {
     "data": {
      "text/plain": [
       "['earns',\n",
       " 'cherry berry',\n",
       " 'liqueur',\n",
       " 'semillon',\n",
       " 'sparkler',\n",
       " 'flavors enriched',\n",
       " 'supported',\n",
       " 'banana',\n",
       " 'rest',\n",
       " 'brightened']"
      ]
     },
     "execution_count": 158,
     "metadata": {},
     "output_type": "execute_result"
    }
   ],
   "source": [
    "low_weights_labels"
   ]
  },
  {
   "cell_type": "markdown",
   "metadata": {},
   "source": [
    "#### The low weight features are not similar to each other, and looking at their weights it seems that they contribute very less to the review. Earns contributes the lowest to the review. These words tend to decrease the review."
   ]
  },
  {
   "cell_type": "code",
   "execution_count": null,
   "metadata": {},
   "outputs": [],
   "source": []
  }
 ],
 "metadata": {
  "kernelspec": {
   "display_name": "Python 2",
   "language": "python",
   "name": "python2"
  },
  "language_info": {
   "codemirror_mode": {
    "name": "ipython",
    "version": 3
   },
   "file_extension": ".py",
   "mimetype": "text/x-python",
   "name": "python",
   "nbconvert_exporter": "python",
   "pygments_lexer": "ipython3",
   "version": "3.5.2"
  }
 },
 "nbformat": 4,
 "nbformat_minor": 2
}
